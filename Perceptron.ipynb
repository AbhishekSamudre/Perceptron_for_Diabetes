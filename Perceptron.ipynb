{
  "nbformat": 4,
  "nbformat_minor": 0,
  "metadata": {
    "colab": {
      "provenance": []
    },
    "kernelspec": {
      "name": "python3",
      "display_name": "Python 3"
    },
    "language_info": {
      "name": "python"
    }
  },
  "cells": [
    {
      "cell_type": "code",
      "source": [
        "import numpy as np\n",
        "import pandas as pd\n",
        "from sklearn.preprocessing import StandardScaler"
      ],
      "metadata": {
        "id": "WTi0edUfJTQU"
      },
      "execution_count": 105,
      "outputs": []
    },
    {
      "cell_type": "code",
      "source": [
        "df = pd.read_csv('diabetes.csv')\n",
        "df['Outcome'] = df['Outcome'].map({1: 1, 0: -1})\n",
        "df.head()\n",
        "df.shape"
      ],
      "metadata": {
        "colab": {
          "base_uri": "https://localhost:8080/"
        },
        "id": "hJXvSuR3K_pl",
        "outputId": "89ec7d70-6991-4ce1-c28a-8df81b6cccc8"
      },
      "execution_count": 106,
      "outputs": [
        {
          "output_type": "execute_result",
          "data": {
            "text/plain": [
              "(768, 9)"
            ]
          },
          "metadata": {},
          "execution_count": 106
        }
      ]
    },
    {
      "cell_type": "code",
      "source": [
        "df.columns"
      ],
      "metadata": {
        "colab": {
          "base_uri": "https://localhost:8080/"
        },
        "id": "-wAEinXBOGYv",
        "outputId": "f77fdcaa-4f39-4727-edbf-a752f701f3ed"
      },
      "execution_count": 107,
      "outputs": [
        {
          "output_type": "execute_result",
          "data": {
            "text/plain": [
              "Index(['Pregnancies', 'Glucose', 'BloodPressure', 'SkinThickness', 'Insulin',\n",
              "       'BMI', 'DiabetesPedigreeFunction', 'Age', 'Outcome'],\n",
              "      dtype='object')"
            ]
          },
          "metadata": {},
          "execution_count": 107
        }
      ]
    },
    {
      "cell_type": "code",
      "source": [
        "X = df.drop(\"Outcome\",axis=1)\n",
        "y = df['Outcome']"
      ],
      "metadata": {
        "id": "1YnKP49hLwGz"
      },
      "execution_count": 108,
      "outputs": []
    },
    {
      "cell_type": "code",
      "source": [
        "scaler = StandardScaler()\n",
        "X_scaled = scaler.fit_transform(X)\n",
        "df_scaled = pd.DataFrame(X_scaled,columns=['Pregnancies', 'Glucose',\n",
        "        'BloodPressure', 'SkinThickness', 'Insulin','BMI',\n",
        "        'DiabetesPedigreeFunction', 'Age'])\n",
        "df_scaled['Outcome'] = y\n",
        "df = df_scaled"
      ],
      "metadata": {
        "id": "hPU-aUFnMMWR"
      },
      "execution_count": 109,
      "outputs": []
    },
    {
      "cell_type": "code",
      "source": [
        "df.head()"
      ],
      "metadata": {
        "colab": {
          "base_uri": "https://localhost:8080/",
          "height": 226
        },
        "id": "LKVkSkutMj32",
        "outputId": "0559be25-a5d5-482f-a1a2-21823abe825e"
      },
      "execution_count": 110,
      "outputs": [
        {
          "output_type": "execute_result",
          "data": {
            "text/plain": [
              "   Pregnancies   Glucose  BloodPressure  SkinThickness   Insulin       BMI  \\\n",
              "0     0.639947  0.848324       0.149641       0.907270 -0.692891  0.204013   \n",
              "1    -0.844885 -1.123396      -0.160546       0.530902 -0.692891 -0.684422   \n",
              "2     1.233880  1.943724      -0.263941      -1.288212 -0.692891 -1.103255   \n",
              "3    -0.844885 -0.998208      -0.160546       0.154533  0.123302 -0.494043   \n",
              "4    -1.141852  0.504055      -1.504687       0.907270  0.765836  1.409746   \n",
              "\n",
              "   DiabetesPedigreeFunction       Age  Outcome  \n",
              "0                  0.468492  1.425995        1  \n",
              "1                 -0.365061 -0.190672       -1  \n",
              "2                  0.604397 -0.105584        1  \n",
              "3                 -0.920763 -1.041549       -1  \n",
              "4                  5.484909 -0.020496        1  "
            ],
            "text/html": [
              "\n",
              "  <div id=\"df-1b87d514-bff3-410c-be3a-ffe367e40fa2\" class=\"colab-df-container\">\n",
              "    <div>\n",
              "<style scoped>\n",
              "    .dataframe tbody tr th:only-of-type {\n",
              "        vertical-align: middle;\n",
              "    }\n",
              "\n",
              "    .dataframe tbody tr th {\n",
              "        vertical-align: top;\n",
              "    }\n",
              "\n",
              "    .dataframe thead th {\n",
              "        text-align: right;\n",
              "    }\n",
              "</style>\n",
              "<table border=\"1\" class=\"dataframe\">\n",
              "  <thead>\n",
              "    <tr style=\"text-align: right;\">\n",
              "      <th></th>\n",
              "      <th>Pregnancies</th>\n",
              "      <th>Glucose</th>\n",
              "      <th>BloodPressure</th>\n",
              "      <th>SkinThickness</th>\n",
              "      <th>Insulin</th>\n",
              "      <th>BMI</th>\n",
              "      <th>DiabetesPedigreeFunction</th>\n",
              "      <th>Age</th>\n",
              "      <th>Outcome</th>\n",
              "    </tr>\n",
              "  </thead>\n",
              "  <tbody>\n",
              "    <tr>\n",
              "      <th>0</th>\n",
              "      <td>0.639947</td>\n",
              "      <td>0.848324</td>\n",
              "      <td>0.149641</td>\n",
              "      <td>0.907270</td>\n",
              "      <td>-0.692891</td>\n",
              "      <td>0.204013</td>\n",
              "      <td>0.468492</td>\n",
              "      <td>1.425995</td>\n",
              "      <td>1</td>\n",
              "    </tr>\n",
              "    <tr>\n",
              "      <th>1</th>\n",
              "      <td>-0.844885</td>\n",
              "      <td>-1.123396</td>\n",
              "      <td>-0.160546</td>\n",
              "      <td>0.530902</td>\n",
              "      <td>-0.692891</td>\n",
              "      <td>-0.684422</td>\n",
              "      <td>-0.365061</td>\n",
              "      <td>-0.190672</td>\n",
              "      <td>-1</td>\n",
              "    </tr>\n",
              "    <tr>\n",
              "      <th>2</th>\n",
              "      <td>1.233880</td>\n",
              "      <td>1.943724</td>\n",
              "      <td>-0.263941</td>\n",
              "      <td>-1.288212</td>\n",
              "      <td>-0.692891</td>\n",
              "      <td>-1.103255</td>\n",
              "      <td>0.604397</td>\n",
              "      <td>-0.105584</td>\n",
              "      <td>1</td>\n",
              "    </tr>\n",
              "    <tr>\n",
              "      <th>3</th>\n",
              "      <td>-0.844885</td>\n",
              "      <td>-0.998208</td>\n",
              "      <td>-0.160546</td>\n",
              "      <td>0.154533</td>\n",
              "      <td>0.123302</td>\n",
              "      <td>-0.494043</td>\n",
              "      <td>-0.920763</td>\n",
              "      <td>-1.041549</td>\n",
              "      <td>-1</td>\n",
              "    </tr>\n",
              "    <tr>\n",
              "      <th>4</th>\n",
              "      <td>-1.141852</td>\n",
              "      <td>0.504055</td>\n",
              "      <td>-1.504687</td>\n",
              "      <td>0.907270</td>\n",
              "      <td>0.765836</td>\n",
              "      <td>1.409746</td>\n",
              "      <td>5.484909</td>\n",
              "      <td>-0.020496</td>\n",
              "      <td>1</td>\n",
              "    </tr>\n",
              "  </tbody>\n",
              "</table>\n",
              "</div>\n",
              "    <div class=\"colab-df-buttons\">\n",
              "\n",
              "  <div class=\"colab-df-container\">\n",
              "    <button class=\"colab-df-convert\" onclick=\"convertToInteractive('df-1b87d514-bff3-410c-be3a-ffe367e40fa2')\"\n",
              "            title=\"Convert this dataframe to an interactive table.\"\n",
              "            style=\"display:none;\">\n",
              "\n",
              "  <svg xmlns=\"http://www.w3.org/2000/svg\" height=\"24px\" viewBox=\"0 -960 960 960\">\n",
              "    <path d=\"M120-120v-720h720v720H120Zm60-500h600v-160H180v160Zm220 220h160v-160H400v160Zm0 220h160v-160H400v160ZM180-400h160v-160H180v160Zm440 0h160v-160H620v160ZM180-180h160v-160H180v160Zm440 0h160v-160H620v160Z\"/>\n",
              "  </svg>\n",
              "    </button>\n",
              "\n",
              "  <style>\n",
              "    .colab-df-container {\n",
              "      display:flex;\n",
              "      gap: 12px;\n",
              "    }\n",
              "\n",
              "    .colab-df-convert {\n",
              "      background-color: #E8F0FE;\n",
              "      border: none;\n",
              "      border-radius: 50%;\n",
              "      cursor: pointer;\n",
              "      display: none;\n",
              "      fill: #1967D2;\n",
              "      height: 32px;\n",
              "      padding: 0 0 0 0;\n",
              "      width: 32px;\n",
              "    }\n",
              "\n",
              "    .colab-df-convert:hover {\n",
              "      background-color: #E2EBFA;\n",
              "      box-shadow: 0px 1px 2px rgba(60, 64, 67, 0.3), 0px 1px 3px 1px rgba(60, 64, 67, 0.15);\n",
              "      fill: #174EA6;\n",
              "    }\n",
              "\n",
              "    .colab-df-buttons div {\n",
              "      margin-bottom: 4px;\n",
              "    }\n",
              "\n",
              "    [theme=dark] .colab-df-convert {\n",
              "      background-color: #3B4455;\n",
              "      fill: #D2E3FC;\n",
              "    }\n",
              "\n",
              "    [theme=dark] .colab-df-convert:hover {\n",
              "      background-color: #434B5C;\n",
              "      box-shadow: 0px 1px 3px 1px rgba(0, 0, 0, 0.15);\n",
              "      filter: drop-shadow(0px 1px 2px rgba(0, 0, 0, 0.3));\n",
              "      fill: #FFFFFF;\n",
              "    }\n",
              "  </style>\n",
              "\n",
              "    <script>\n",
              "      const buttonEl =\n",
              "        document.querySelector('#df-1b87d514-bff3-410c-be3a-ffe367e40fa2 button.colab-df-convert');\n",
              "      buttonEl.style.display =\n",
              "        google.colab.kernel.accessAllowed ? 'block' : 'none';\n",
              "\n",
              "      async function convertToInteractive(key) {\n",
              "        const element = document.querySelector('#df-1b87d514-bff3-410c-be3a-ffe367e40fa2');\n",
              "        const dataTable =\n",
              "          await google.colab.kernel.invokeFunction('convertToInteractive',\n",
              "                                                    [key], {});\n",
              "        if (!dataTable) return;\n",
              "\n",
              "        const docLinkHtml = 'Like what you see? Visit the ' +\n",
              "          '<a target=\"_blank\" href=https://colab.research.google.com/notebooks/data_table.ipynb>data table notebook</a>'\n",
              "          + ' to learn more about interactive tables.';\n",
              "        element.innerHTML = '';\n",
              "        dataTable['output_type'] = 'display_data';\n",
              "        await google.colab.output.renderOutput(dataTable, element);\n",
              "        const docLink = document.createElement('div');\n",
              "        docLink.innerHTML = docLinkHtml;\n",
              "        element.appendChild(docLink);\n",
              "      }\n",
              "    </script>\n",
              "  </div>\n",
              "\n",
              "\n",
              "<div id=\"df-1fa6cd95-2b65-4e53-8235-6f544972e032\">\n",
              "  <button class=\"colab-df-quickchart\" onclick=\"quickchart('df-1fa6cd95-2b65-4e53-8235-6f544972e032')\"\n",
              "            title=\"Suggest charts.\"\n",
              "            style=\"display:none;\">\n",
              "\n",
              "<svg xmlns=\"http://www.w3.org/2000/svg\" height=\"24px\"viewBox=\"0 0 24 24\"\n",
              "     width=\"24px\">\n",
              "    <g>\n",
              "        <path d=\"M19 3H5c-1.1 0-2 .9-2 2v14c0 1.1.9 2 2 2h14c1.1 0 2-.9 2-2V5c0-1.1-.9-2-2-2zM9 17H7v-7h2v7zm4 0h-2V7h2v10zm4 0h-2v-4h2v4z\"/>\n",
              "    </g>\n",
              "</svg>\n",
              "  </button>\n",
              "\n",
              "<style>\n",
              "  .colab-df-quickchart {\n",
              "      --bg-color: #E8F0FE;\n",
              "      --fill-color: #1967D2;\n",
              "      --hover-bg-color: #E2EBFA;\n",
              "      --hover-fill-color: #174EA6;\n",
              "      --disabled-fill-color: #AAA;\n",
              "      --disabled-bg-color: #DDD;\n",
              "  }\n",
              "\n",
              "  [theme=dark] .colab-df-quickchart {\n",
              "      --bg-color: #3B4455;\n",
              "      --fill-color: #D2E3FC;\n",
              "      --hover-bg-color: #434B5C;\n",
              "      --hover-fill-color: #FFFFFF;\n",
              "      --disabled-bg-color: #3B4455;\n",
              "      --disabled-fill-color: #666;\n",
              "  }\n",
              "\n",
              "  .colab-df-quickchart {\n",
              "    background-color: var(--bg-color);\n",
              "    border: none;\n",
              "    border-radius: 50%;\n",
              "    cursor: pointer;\n",
              "    display: none;\n",
              "    fill: var(--fill-color);\n",
              "    height: 32px;\n",
              "    padding: 0;\n",
              "    width: 32px;\n",
              "  }\n",
              "\n",
              "  .colab-df-quickchart:hover {\n",
              "    background-color: var(--hover-bg-color);\n",
              "    box-shadow: 0 1px 2px rgba(60, 64, 67, 0.3), 0 1px 3px 1px rgba(60, 64, 67, 0.15);\n",
              "    fill: var(--button-hover-fill-color);\n",
              "  }\n",
              "\n",
              "  .colab-df-quickchart-complete:disabled,\n",
              "  .colab-df-quickchart-complete:disabled:hover {\n",
              "    background-color: var(--disabled-bg-color);\n",
              "    fill: var(--disabled-fill-color);\n",
              "    box-shadow: none;\n",
              "  }\n",
              "\n",
              "  .colab-df-spinner {\n",
              "    border: 2px solid var(--fill-color);\n",
              "    border-color: transparent;\n",
              "    border-bottom-color: var(--fill-color);\n",
              "    animation:\n",
              "      spin 1s steps(1) infinite;\n",
              "  }\n",
              "\n",
              "  @keyframes spin {\n",
              "    0% {\n",
              "      border-color: transparent;\n",
              "      border-bottom-color: var(--fill-color);\n",
              "      border-left-color: var(--fill-color);\n",
              "    }\n",
              "    20% {\n",
              "      border-color: transparent;\n",
              "      border-left-color: var(--fill-color);\n",
              "      border-top-color: var(--fill-color);\n",
              "    }\n",
              "    30% {\n",
              "      border-color: transparent;\n",
              "      border-left-color: var(--fill-color);\n",
              "      border-top-color: var(--fill-color);\n",
              "      border-right-color: var(--fill-color);\n",
              "    }\n",
              "    40% {\n",
              "      border-color: transparent;\n",
              "      border-right-color: var(--fill-color);\n",
              "      border-top-color: var(--fill-color);\n",
              "    }\n",
              "    60% {\n",
              "      border-color: transparent;\n",
              "      border-right-color: var(--fill-color);\n",
              "    }\n",
              "    80% {\n",
              "      border-color: transparent;\n",
              "      border-right-color: var(--fill-color);\n",
              "      border-bottom-color: var(--fill-color);\n",
              "    }\n",
              "    90% {\n",
              "      border-color: transparent;\n",
              "      border-bottom-color: var(--fill-color);\n",
              "    }\n",
              "  }\n",
              "</style>\n",
              "\n",
              "  <script>\n",
              "    async function quickchart(key) {\n",
              "      const quickchartButtonEl =\n",
              "        document.querySelector('#' + key + ' button');\n",
              "      quickchartButtonEl.disabled = true;  // To prevent multiple clicks.\n",
              "      quickchartButtonEl.classList.add('colab-df-spinner');\n",
              "      try {\n",
              "        const charts = await google.colab.kernel.invokeFunction(\n",
              "            'suggestCharts', [key], {});\n",
              "      } catch (error) {\n",
              "        console.error('Error during call to suggestCharts:', error);\n",
              "      }\n",
              "      quickchartButtonEl.classList.remove('colab-df-spinner');\n",
              "      quickchartButtonEl.classList.add('colab-df-quickchart-complete');\n",
              "    }\n",
              "    (() => {\n",
              "      let quickchartButtonEl =\n",
              "        document.querySelector('#df-1fa6cd95-2b65-4e53-8235-6f544972e032 button');\n",
              "      quickchartButtonEl.style.display =\n",
              "        google.colab.kernel.accessAllowed ? 'block' : 'none';\n",
              "    })();\n",
              "  </script>\n",
              "</div>\n",
              "    </div>\n",
              "  </div>\n"
            ]
          },
          "metadata": {},
          "execution_count": 110
        }
      ]
    },
    {
      "cell_type": "code",
      "source": [
        "X = df.drop(\"Outcome\",axis=1).values\n",
        "y = df['Outcome'].values"
      ],
      "metadata": {
        "id": "a4kJp4vGPdOS"
      },
      "execution_count": 111,
      "outputs": []
    },
    {
      "cell_type": "code",
      "source": [
        "## Splitting the Data\n",
        "from sklearn.model_selection import train_test_split\n",
        "X_train,X_test,y_train,y_test = train_test_split(X,y,test_size=0.2,random_state=0)"
      ],
      "metadata": {
        "id": "Dm6xjsI8OhsC"
      },
      "execution_count": 112,
      "outputs": []
    },
    {
      "cell_type": "code",
      "source": [
        "from random import seed\n",
        "np.random.seed(10)\n",
        "w = np.random.randn(9,1)*np.sqrt(1/1)\n",
        "w"
      ],
      "metadata": {
        "colab": {
          "base_uri": "https://localhost:8080/"
        },
        "id": "-JSvHTA6-19p",
        "outputId": "4e6e4c42-4efa-49f5-e9d6-9e9a08475733"
      },
      "execution_count": 113,
      "outputs": [
        {
          "output_type": "execute_result",
          "data": {
            "text/plain": [
              "array([[ 1.3315865 ],\n",
              "       [ 0.71527897],\n",
              "       [-1.54540029],\n",
              "       [-0.00838385],\n",
              "       [ 0.62133597],\n",
              "       [-0.72008556],\n",
              "       [ 0.26551159],\n",
              "       [ 0.10854853],\n",
              "       [ 0.00429143]])"
            ]
          },
          "metadata": {},
          "execution_count": 113
        }
      ]
    },
    {
      "cell_type": "code",
      "source": [
        "def pred(row,w):\n",
        "  a = w[0]\n",
        "  for i in range(len(row)):\n",
        "    a = a + w[i+1]*row[i]\n",
        "  return 1 if a>=0 else -1"
      ],
      "metadata": {
        "id": "s2VZBwEH_MyC"
      },
      "execution_count": 114,
      "outputs": []
    },
    {
      "cell_type": "code",
      "source": [
        "epoch = []\n",
        "sum_of_squares = []\n",
        "def train(X_train,lrrate,epochs):\n",
        "  for i in range(epochs):\n",
        "        global epoch\n",
        "        global sum_of_squares\n",
        "        sum_square_error = 0\n",
        "        for row, row1 in zip(X_train,y_train):\n",
        "            prediction = pred(row,w)\n",
        "            error = row1 - prediction\n",
        "            w[0] = w[0] + lrrate*error\n",
        "            sum_square_error = sum_square_error + ((error/2)**2)\n",
        "            for i in range(len(row)):\n",
        "                w[i+1]=w[i+1]+ lrrate*error*row[i]\n",
        "        print('Epoch : {}'.format(i),'\\tError : {}'.format(sum_square_error))\n",
        "        epoch.append(i)\n",
        "        sum_of_squares.append(sum_square_error)\n",
        "  return w"
      ],
      "metadata": {
        "id": "TKG2aAo-_tfq"
      },
      "execution_count": 115,
      "outputs": []
    },
    {
      "cell_type": "code",
      "source": [
        "def perceptron(X_train, X_test, lrrate, epochs):\n",
        "    weights=train(X_train, lrrate, epochs)\n",
        "    pred1 = list()\n",
        "    for row in X_test:\n",
        "        predict = pred(row,weights)\n",
        "        pred1.append(predict)\n",
        "    return pred1"
      ],
      "metadata": {
        "id": "tLVPZyLMAvty"
      },
      "execution_count": 116,
      "outputs": []
    },
    {
      "cell_type": "code",
      "source": [
        "lrrate = 0.01\n",
        "epochs = 150"
      ],
      "metadata": {
        "id": "uPNy7Z_HBFqx"
      },
      "execution_count": 117,
      "outputs": []
    },
    {
      "cell_type": "code",
      "source": [
        "def accuracy (predected, actual):\n",
        "    right=0\n",
        "    for i in range(len(predected)):\n",
        "        if predected[i]==actual[i]:\n",
        "            right = right +1\n",
        "    return right/len(predected) * 100"
      ],
      "metadata": {
        "id": "R0ArPh9dBKt4"
      },
      "execution_count": 118,
      "outputs": []
    },
    {
      "cell_type": "code",
      "source": [
        "y_pred = perceptron(X_train, X_train, lrrate, epochs)"
      ],
      "metadata": {
        "colab": {
          "base_uri": "https://localhost:8080/"
        },
        "id": "9M_1xkJ3BW4D",
        "outputId": "03638dc8-6b9d-4397-d626-d96175cb13f3"
      },
      "execution_count": 119,
      "outputs": [
        {
          "output_type": "stream",
          "name": "stdout",
          "text": [
            "Epoch : 7 \tError : 235.0\n",
            "Epoch : 7 \tError : 204.0\n",
            "Epoch : 7 \tError : 206.0\n",
            "Epoch : 7 \tError : 204.0\n",
            "Epoch : 7 \tError : 210.0\n",
            "Epoch : 7 \tError : 204.0\n",
            "Epoch : 7 \tError : 197.0\n",
            "Epoch : 7 \tError : 195.0\n",
            "Epoch : 7 \tError : 206.0\n",
            "Epoch : 7 \tError : 195.0\n",
            "Epoch : 7 \tError : 203.0\n",
            "Epoch : 7 \tError : 201.0\n",
            "Epoch : 7 \tError : 211.0\n",
            "Epoch : 7 \tError : 200.0\n",
            "Epoch : 7 \tError : 218.0\n",
            "Epoch : 7 \tError : 214.0\n",
            "Epoch : 7 \tError : 208.0\n",
            "Epoch : 7 \tError : 216.0\n",
            "Epoch : 7 \tError : 197.0\n",
            "Epoch : 7 \tError : 202.0\n",
            "Epoch : 7 \tError : 209.0\n",
            "Epoch : 7 \tError : 206.0\n",
            "Epoch : 7 \tError : 202.0\n",
            "Epoch : 7 \tError : 208.0\n",
            "Epoch : 7 \tError : 211.0\n",
            "Epoch : 7 \tError : 207.0\n",
            "Epoch : 7 \tError : 217.0\n",
            "Epoch : 7 \tError : 194.0\n",
            "Epoch : 7 \tError : 205.0\n",
            "Epoch : 7 \tError : 196.0\n",
            "Epoch : 7 \tError : 206.0\n",
            "Epoch : 7 \tError : 205.0\n",
            "Epoch : 7 \tError : 213.0\n",
            "Epoch : 7 \tError : 198.0\n",
            "Epoch : 7 \tError : 202.0\n",
            "Epoch : 7 \tError : 212.0\n",
            "Epoch : 7 \tError : 204.0\n",
            "Epoch : 7 \tError : 202.0\n",
            "Epoch : 7 \tError : 204.0\n",
            "Epoch : 7 \tError : 202.0\n",
            "Epoch : 7 \tError : 200.0\n",
            "Epoch : 7 \tError : 192.0\n",
            "Epoch : 7 \tError : 203.0\n",
            "Epoch : 7 \tError : 206.0\n",
            "Epoch : 7 \tError : 195.0\n",
            "Epoch : 7 \tError : 196.0\n",
            "Epoch : 7 \tError : 204.0\n",
            "Epoch : 7 \tError : 202.0\n",
            "Epoch : 7 \tError : 207.0\n",
            "Epoch : 7 \tError : 211.0\n",
            "Epoch : 7 \tError : 215.0\n",
            "Epoch : 7 \tError : 197.0\n",
            "Epoch : 7 \tError : 206.0\n",
            "Epoch : 7 \tError : 205.0\n",
            "Epoch : 7 \tError : 204.0\n",
            "Epoch : 7 \tError : 192.0\n",
            "Epoch : 7 \tError : 216.0\n",
            "Epoch : 7 \tError : 205.0\n",
            "Epoch : 7 \tError : 207.0\n",
            "Epoch : 7 \tError : 194.0\n",
            "Epoch : 7 \tError : 205.0\n",
            "Epoch : 7 \tError : 210.0\n",
            "Epoch : 7 \tError : 194.0\n",
            "Epoch : 7 \tError : 204.0\n",
            "Epoch : 7 \tError : 198.0\n",
            "Epoch : 7 \tError : 209.0\n",
            "Epoch : 7 \tError : 197.0\n",
            "Epoch : 7 \tError : 209.0\n",
            "Epoch : 7 \tError : 211.0\n",
            "Epoch : 7 \tError : 206.0\n",
            "Epoch : 7 \tError : 207.0\n",
            "Epoch : 7 \tError : 203.0\n",
            "Epoch : 7 \tError : 203.0\n",
            "Epoch : 7 \tError : 207.0\n",
            "Epoch : 7 \tError : 202.0\n",
            "Epoch : 7 \tError : 202.0\n",
            "Epoch : 7 \tError : 203.0\n",
            "Epoch : 7 \tError : 207.0\n",
            "Epoch : 7 \tError : 201.0\n",
            "Epoch : 7 \tError : 207.0\n",
            "Epoch : 7 \tError : 218.0\n",
            "Epoch : 7 \tError : 208.0\n",
            "Epoch : 7 \tError : 195.0\n",
            "Epoch : 7 \tError : 204.0\n",
            "Epoch : 7 \tError : 207.0\n",
            "Epoch : 7 \tError : 206.0\n",
            "Epoch : 7 \tError : 212.0\n",
            "Epoch : 7 \tError : 208.0\n",
            "Epoch : 7 \tError : 204.0\n",
            "Epoch : 7 \tError : 186.0\n",
            "Epoch : 7 \tError : 210.0\n",
            "Epoch : 7 \tError : 208.0\n",
            "Epoch : 7 \tError : 200.0\n",
            "Epoch : 7 \tError : 199.0\n",
            "Epoch : 7 \tError : 211.0\n",
            "Epoch : 7 \tError : 213.0\n",
            "Epoch : 7 \tError : 203.0\n",
            "Epoch : 7 \tError : 212.0\n",
            "Epoch : 7 \tError : 204.0\n",
            "Epoch : 7 \tError : 207.0\n",
            "Epoch : 7 \tError : 202.0\n",
            "Epoch : 7 \tError : 219.0\n",
            "Epoch : 7 \tError : 210.0\n",
            "Epoch : 7 \tError : 202.0\n",
            "Epoch : 7 \tError : 205.0\n",
            "Epoch : 7 \tError : 203.0\n",
            "Epoch : 7 \tError : 202.0\n",
            "Epoch : 7 \tError : 200.0\n",
            "Epoch : 7 \tError : 211.0\n",
            "Epoch : 7 \tError : 201.0\n",
            "Epoch : 7 \tError : 204.0\n",
            "Epoch : 7 \tError : 208.0\n",
            "Epoch : 7 \tError : 212.0\n",
            "Epoch : 7 \tError : 202.0\n",
            "Epoch : 7 \tError : 200.0\n",
            "Epoch : 7 \tError : 201.0\n",
            "Epoch : 7 \tError : 200.0\n",
            "Epoch : 7 \tError : 209.0\n",
            "Epoch : 7 \tError : 208.0\n",
            "Epoch : 7 \tError : 203.0\n",
            "Epoch : 7 \tError : 208.0\n",
            "Epoch : 7 \tError : 201.0\n",
            "Epoch : 7 \tError : 202.0\n",
            "Epoch : 7 \tError : 211.0\n",
            "Epoch : 7 \tError : 213.0\n",
            "Epoch : 7 \tError : 200.0\n",
            "Epoch : 7 \tError : 205.0\n",
            "Epoch : 7 \tError : 199.0\n",
            "Epoch : 7 \tError : 209.0\n",
            "Epoch : 7 \tError : 198.0\n",
            "Epoch : 7 \tError : 206.0\n",
            "Epoch : 7 \tError : 189.0\n",
            "Epoch : 7 \tError : 207.0\n",
            "Epoch : 7 \tError : 204.0\n",
            "Epoch : 7 \tError : 202.0\n",
            "Epoch : 7 \tError : 209.0\n",
            "Epoch : 7 \tError : 201.0\n",
            "Epoch : 7 \tError : 210.0\n",
            "Epoch : 7 \tError : 204.0\n",
            "Epoch : 7 \tError : 204.0\n",
            "Epoch : 7 \tError : 205.0\n",
            "Epoch : 7 \tError : 194.0\n",
            "Epoch : 7 \tError : 199.0\n",
            "Epoch : 7 \tError : 202.0\n",
            "Epoch : 7 \tError : 207.0\n",
            "Epoch : 7 \tError : 208.0\n",
            "Epoch : 7 \tError : 199.0\n",
            "Epoch : 7 \tError : 203.0\n",
            "Epoch : 7 \tError : 212.0\n",
            "Epoch : 7 \tError : 208.0\n"
          ]
        }
      ]
    },
    {
      "cell_type": "code",
      "source": [
        "train_accuracy = accuracy(y_train,y_pred)\n",
        "print('Train Accuracy :', train_accuracy)"
      ],
      "metadata": {
        "colab": {
          "base_uri": "https://localhost:8080/"
        },
        "id": "PyVkA4lfBXqa",
        "outputId": "78a0c744-3c40-42db-d6c3-2816df9851ce"
      },
      "execution_count": 120,
      "outputs": [
        {
          "output_type": "stream",
          "name": "stdout",
          "text": [
            "Train Accuracy : 69.21824104234527\n"
          ]
        }
      ]
    },
    {
      "cell_type": "code",
      "source": [
        "y = perceptron(X_train, X_test, lrrate, epochs)"
      ],
      "metadata": {
        "colab": {
          "base_uri": "https://localhost:8080/"
        },
        "id": "D8EFl5P-B1Xe",
        "outputId": "35f8c6f7-0c22-4760-f4b2-8b1ffa8760ad"
      },
      "execution_count": 121,
      "outputs": [
        {
          "output_type": "stream",
          "name": "stdout",
          "text": [
            "Epoch : 7 \tError : 204.0\n",
            "Epoch : 7 \tError : 216.0\n",
            "Epoch : 7 \tError : 208.0\n",
            "Epoch : 7 \tError : 210.0\n",
            "Epoch : 7 \tError : 202.0\n",
            "Epoch : 7 \tError : 200.0\n",
            "Epoch : 7 \tError : 204.0\n",
            "Epoch : 7 \tError : 203.0\n",
            "Epoch : 7 \tError : 204.0\n",
            "Epoch : 7 \tError : 215.0\n",
            "Epoch : 7 \tError : 214.0\n",
            "Epoch : 7 \tError : 201.0\n",
            "Epoch : 7 \tError : 210.0\n",
            "Epoch : 7 \tError : 202.0\n",
            "Epoch : 7 \tError : 213.0\n",
            "Epoch : 7 \tError : 205.0\n",
            "Epoch : 7 \tError : 206.0\n",
            "Epoch : 7 \tError : 207.0\n",
            "Epoch : 7 \tError : 210.0\n",
            "Epoch : 7 \tError : 207.0\n",
            "Epoch : 7 \tError : 200.0\n",
            "Epoch : 7 \tError : 198.0\n",
            "Epoch : 7 \tError : 204.0\n",
            "Epoch : 7 \tError : 208.0\n",
            "Epoch : 7 \tError : 197.0\n",
            "Epoch : 7 \tError : 206.0\n",
            "Epoch : 7 \tError : 204.0\n",
            "Epoch : 7 \tError : 206.0\n",
            "Epoch : 7 \tError : 202.0\n",
            "Epoch : 7 \tError : 201.0\n",
            "Epoch : 7 \tError : 201.0\n",
            "Epoch : 7 \tError : 210.0\n",
            "Epoch : 7 \tError : 209.0\n",
            "Epoch : 7 \tError : 196.0\n",
            "Epoch : 7 \tError : 203.0\n",
            "Epoch : 7 \tError : 202.0\n",
            "Epoch : 7 \tError : 211.0\n",
            "Epoch : 7 \tError : 201.0\n",
            "Epoch : 7 \tError : 212.0\n",
            "Epoch : 7 \tError : 211.0\n",
            "Epoch : 7 \tError : 193.0\n",
            "Epoch : 7 \tError : 203.0\n",
            "Epoch : 7 \tError : 202.0\n",
            "Epoch : 7 \tError : 198.0\n",
            "Epoch : 7 \tError : 208.0\n",
            "Epoch : 7 \tError : 203.0\n",
            "Epoch : 7 \tError : 208.0\n",
            "Epoch : 7 \tError : 202.0\n",
            "Epoch : 7 \tError : 202.0\n",
            "Epoch : 7 \tError : 209.0\n",
            "Epoch : 7 \tError : 210.0\n",
            "Epoch : 7 \tError : 209.0\n",
            "Epoch : 7 \tError : 202.0\n",
            "Epoch : 7 \tError : 199.0\n",
            "Epoch : 7 \tError : 206.0\n",
            "Epoch : 7 \tError : 189.0\n",
            "Epoch : 7 \tError : 200.0\n",
            "Epoch : 7 \tError : 202.0\n",
            "Epoch : 7 \tError : 200.0\n",
            "Epoch : 7 \tError : 203.0\n",
            "Epoch : 7 \tError : 211.0\n",
            "Epoch : 7 \tError : 195.0\n",
            "Epoch : 7 \tError : 204.0\n",
            "Epoch : 7 \tError : 210.0\n",
            "Epoch : 7 \tError : 216.0\n",
            "Epoch : 7 \tError : 200.0\n",
            "Epoch : 7 \tError : 202.0\n",
            "Epoch : 7 \tError : 213.0\n",
            "Epoch : 7 \tError : 203.0\n",
            "Epoch : 7 \tError : 198.0\n",
            "Epoch : 7 \tError : 202.0\n",
            "Epoch : 7 \tError : 210.0\n",
            "Epoch : 7 \tError : 204.0\n",
            "Epoch : 7 \tError : 210.0\n",
            "Epoch : 7 \tError : 195.0\n",
            "Epoch : 7 \tError : 204.0\n",
            "Epoch : 7 \tError : 215.0\n",
            "Epoch : 7 \tError : 200.0\n",
            "Epoch : 7 \tError : 201.0\n",
            "Epoch : 7 \tError : 216.0\n",
            "Epoch : 7 \tError : 205.0\n",
            "Epoch : 7 \tError : 207.0\n",
            "Epoch : 7 \tError : 201.0\n",
            "Epoch : 7 \tError : 200.0\n",
            "Epoch : 7 \tError : 211.0\n",
            "Epoch : 7 \tError : 210.0\n",
            "Epoch : 7 \tError : 212.0\n",
            "Epoch : 7 \tError : 210.0\n",
            "Epoch : 7 \tError : 208.0\n",
            "Epoch : 7 \tError : 199.0\n",
            "Epoch : 7 \tError : 194.0\n",
            "Epoch : 7 \tError : 197.0\n",
            "Epoch : 7 \tError : 194.0\n",
            "Epoch : 7 \tError : 201.0\n",
            "Epoch : 7 \tError : 213.0\n",
            "Epoch : 7 \tError : 203.0\n",
            "Epoch : 7 \tError : 201.0\n",
            "Epoch : 7 \tError : 207.0\n",
            "Epoch : 7 \tError : 204.0\n",
            "Epoch : 7 \tError : 205.0\n",
            "Epoch : 7 \tError : 216.0\n",
            "Epoch : 7 \tError : 195.0\n",
            "Epoch : 7 \tError : 211.0\n",
            "Epoch : 7 \tError : 202.0\n",
            "Epoch : 7 \tError : 207.0\n",
            "Epoch : 7 \tError : 203.0\n",
            "Epoch : 7 \tError : 207.0\n",
            "Epoch : 7 \tError : 216.0\n",
            "Epoch : 7 \tError : 205.0\n",
            "Epoch : 7 \tError : 213.0\n",
            "Epoch : 7 \tError : 197.0\n",
            "Epoch : 7 \tError : 207.0\n",
            "Epoch : 7 \tError : 202.0\n",
            "Epoch : 7 \tError : 203.0\n",
            "Epoch : 7 \tError : 215.0\n",
            "Epoch : 7 \tError : 207.0\n",
            "Epoch : 7 \tError : 215.0\n",
            "Epoch : 7 \tError : 208.0\n",
            "Epoch : 7 \tError : 204.0\n",
            "Epoch : 7 \tError : 203.0\n",
            "Epoch : 7 \tError : 203.0\n",
            "Epoch : 7 \tError : 209.0\n",
            "Epoch : 7 \tError : 212.0\n",
            "Epoch : 7 \tError : 201.0\n",
            "Epoch : 7 \tError : 205.0\n",
            "Epoch : 7 \tError : 195.0\n",
            "Epoch : 7 \tError : 202.0\n",
            "Epoch : 7 \tError : 201.0\n",
            "Epoch : 7 \tError : 198.0\n",
            "Epoch : 7 \tError : 210.0\n",
            "Epoch : 7 \tError : 206.0\n",
            "Epoch : 7 \tError : 204.0\n",
            "Epoch : 7 \tError : 204.0\n",
            "Epoch : 7 \tError : 203.0\n",
            "Epoch : 7 \tError : 214.0\n",
            "Epoch : 7 \tError : 202.0\n",
            "Epoch : 7 \tError : 199.0\n",
            "Epoch : 7 \tError : 210.0\n",
            "Epoch : 7 \tError : 204.0\n",
            "Epoch : 7 \tError : 207.0\n",
            "Epoch : 7 \tError : 195.0\n",
            "Epoch : 7 \tError : 200.0\n",
            "Epoch : 7 \tError : 202.0\n",
            "Epoch : 7 \tError : 205.0\n",
            "Epoch : 7 \tError : 207.0\n",
            "Epoch : 7 \tError : 218.0\n",
            "Epoch : 7 \tError : 217.0\n",
            "Epoch : 7 \tError : 204.0\n",
            "Epoch : 7 \tError : 215.0\n",
            "Epoch : 7 \tError : 204.0\n"
          ]
        }
      ]
    },
    {
      "cell_type": "code",
      "source": [
        "test_accuracy = accuracy(y_test,y)\n",
        "print(\"Test Accuracy: \",test_accuracy)"
      ],
      "metadata": {
        "colab": {
          "base_uri": "https://localhost:8080/"
        },
        "id": "0K7CPpjnB8cB",
        "outputId": "58943137-5dce-471e-fe5b-ef5a99d08632"
      },
      "execution_count": 122,
      "outputs": [
        {
          "output_type": "stream",
          "name": "stdout",
          "text": [
            "Test Accuracy:  72.72727272727273\n"
          ]
        }
      ]
    },
    {
      "cell_type": "code",
      "source": [
        "from sklearn.metrics import classification_report\n",
        "print('classification report \\n',classification_report(y_test,y))"
      ],
      "metadata": {
        "colab": {
          "base_uri": "https://localhost:8080/"
        },
        "id": "8d6mW5c0CLkC",
        "outputId": "6eaaeda0-fa45-4b4d-d09d-03d65fb2cbbf"
      },
      "execution_count": 123,
      "outputs": [
        {
          "output_type": "stream",
          "name": "stdout",
          "text": [
            "classification report \n",
            "               precision    recall  f1-score   support\n",
            "\n",
            "          -1       0.84      0.76      0.79       107\n",
            "           1       0.54      0.66      0.60        47\n",
            "\n",
            "    accuracy                           0.73       154\n",
            "   macro avg       0.69      0.71      0.70       154\n",
            "weighted avg       0.75      0.73      0.73       154\n",
            "\n"
          ]
        }
      ]
    },
    {
      "cell_type": "code",
      "source": [],
      "metadata": {
        "id": "_30dX7HGCnMT"
      },
      "execution_count": 123,
      "outputs": []
    }
  ]
}